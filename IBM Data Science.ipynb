{
 "cells": [
  {
   "cell_type": "markdown",
   "id": "b82b8fa7",
   "metadata": {},
   "source": [
    "# Data Science Notebook"
   ]
  },
  {
   "cell_type": "markdown",
   "id": "3deed6f8",
   "metadata": {},
   "source": [
    "## Introduction\n",
    "Welcome to this Data Science notebook. In this notebook, we will explore various data science concepts and perform some calculations and coding exercises.\n"
   ]
  },
  {
   "cell_type": "markdown",
   "id": "f447eccf",
   "metadata": {},
   "source": [
    "## Data Science Languages\n",
    "- Python\n",
    "- R\n",
    "- Julia"
   ]
  },
  {
   "cell_type": "markdown",
   "id": "1c61c7dd",
   "metadata": {},
   "source": [
    "## Data Science Libraries\n",
    "- NumPy\n",
    "- Pandas\n",
    "- Matplotlib\n",
    "- Seaborn\n",
    "- SciPy\n",
    "- Scikit-learn\n",
    "- TensorFlow\n",
    "- Keras\n",
    "- PyTorch"
   ]
  },
  {
   "cell_type": "markdown",
   "id": "7448fdb4",
   "metadata": {},
   "source": [
    "## Data Science Tools\n",
    "\n",
    "| Tool          | Description                   |\n",
    "|---------------|-------------------------------|\n",
    "| Jupyter       | Interactive notebook          |\n",
    "| VS Code       | Integrated development env.   |\n",
    "| Tableau       | Data visualization            |\n",
    "| Power BI      | Business intelligence        |\n",
    "| Git           | Version control               |\n",
    "| SQL           | Database querying             |\n",
    "| Excel         | Data analysis and modeling    |\n",
    "| Docker        | Containerization              |\n",
    "| Spark         | Big data processing           |"
   ]
  },
  {
   "cell_type": "markdown",
   "id": "9d338803",
   "metadata": {},
   "source": [
    "## Arithmetic Expression Examples\n",
    "In the following exercises, we will explore some arithmetic expressions and perform calculations using Python.\n"
   ]
  },
  {
   "cell_type": "code",
   "execution_count": 1,
   "id": "67722cd2",
   "metadata": {},
   "outputs": [
    {
     "data": {
      "text/plain": [
       "(50, 15)"
      ]
     },
     "execution_count": 1,
     "metadata": {},
     "output_type": "execute_result"
    }
   ],
   "source": [
    "# Multiply and add numbers\n",
    "x = 5\n",
    "y = 10\n",
    "product = x * y\n",
    "sum_result = x + y\n",
    "product, sum_result"
   ]
  },
  {
   "cell_type": "code",
   "execution_count": 2,
   "id": "b465c710",
   "metadata": {},
   "outputs": [
    {
     "data": {
      "text/plain": [
       "2.0"
      ]
     },
     "execution_count": 2,
     "metadata": {},
     "output_type": "execute_result"
    }
   ],
   "source": [
    "# Convert minutes to hours\n",
    "minutes = 120\n",
    "hours = minutes / 60\n",
    "hours"
   ]
  },
  {
   "cell_type": "markdown",
   "id": "3db90980",
   "metadata": {},
   "source": [
    "## Objectives\n",
    "- Explore data science languages and libraries.\n",
    "- Perform arithmetic calculations.\n",
    "- Convert units of measurement.\n",
    "- Share the notebook via GitHub."
   ]
  },
  {
   "cell_type": "markdown",
   "id": "2b13ba57",
   "metadata": {},
   "source": [
    "## Author\n",
    "- Shreeganesha"
   ]
  }
 ],
 "metadata": {
  "kernelspec": {
   "display_name": "Python 3 (ipykernel)",
   "language": "python",
   "name": "python3"
  },
  "language_info": {
   "codemirror_mode": {
    "name": "ipython",
    "version": 3
   },
   "file_extension": ".py",
   "mimetype": "text/x-python",
   "name": "python",
   "nbconvert_exporter": "python",
   "pygments_lexer": "ipython3",
   "version": "3.9.13"
  }
 },
 "nbformat": 4,
 "nbformat_minor": 5
}
